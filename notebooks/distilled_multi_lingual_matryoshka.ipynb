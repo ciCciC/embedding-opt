{
 "cells": [
  {
   "cell_type": "markdown",
   "source": [
    "# Matryoshka Representation Learning (MRL) and Binary Quantization (BQ)"
   ],
   "metadata": {
    "collapsed": false
   },
   "id": "580d6f06c9d27f60"
  },
  {
   "cell_type": "code",
   "id": "initial_id",
   "metadata": {
    "collapsed": true,
    "ExecuteTime": {
     "end_time": "2024-04-12T19:19:23.367667Z",
     "start_time": "2024-04-12T19:19:23.352092Z"
    }
   },
   "source": [
    "from torch.utils.data import DataLoader\n",
    "import torch\n",
    "import math\n",
    "from sentence_transformers import SentenceTransformer, LoggingHandler, losses, models, util\n",
    "from sentence_transformers.evaluation import EmbeddingSimilarityEvaluator\n",
    "from sentence_transformers.readers import InputExample\n",
    "import logging\n",
    "import os\n",
    "import gzip\n",
    "import csv"
   ],
   "outputs": [],
   "execution_count": 2
  },
  {
   "cell_type": "code",
   "outputs": [
    {
     "data": {
      "text/plain": "'cuda'"
     },
     "execution_count": 3,
     "metadata": {},
     "output_type": "execute_result"
    }
   ],
   "source": [
    "device = 'cuda' if torch.cuda.is_available() else 'mps' if torch.backends.mps.is_available() else 'cpu'\n",
    "device"
   ],
   "metadata": {
    "collapsed": false,
    "ExecuteTime": {
     "end_time": "2024-04-12T19:19:42.124405Z",
     "start_time": "2024-04-12T19:19:42.076502Z"
    }
   },
   "id": "565fa7171622a6f",
   "execution_count": 3
  },
  {
   "cell_type": "code",
   "source": [
    "#### Just some code to print debug information to stdout\n",
    "logging.basicConfig(\n",
    "    format=\"%(asctime)s - %(message)s\", datefmt=\"%Y-%m-%d %H:%M:%S\", level=logging.INFO, handlers=[LoggingHandler()]\n",
    ")\n",
    "\n",
    "# Check if dataset exists. If not, download and extract  it\n",
    "sts_dataset_path = \"../datasets/stsbenchmark.tsv.gz\""
   ],
   "metadata": {
    "collapsed": false,
    "ExecuteTime": {
     "end_time": "2024-04-12T19:19:46.273539Z",
     "start_time": "2024-04-12T19:19:46.263465Z"
    }
   },
   "id": "4db886c79f35fb9d",
   "outputs": [],
   "execution_count": 4
  },
  {
   "cell_type": "markdown",
   "source": [
    "Download dataset"
   ],
   "metadata": {
    "collapsed": false
   },
   "id": "61c81dc6d92ef4f0"
  },
  {
   "cell_type": "code",
   "outputs": [
    {
     "data": {
      "text/plain": "  0%|          | 0.00/392k [00:00<?, ?B/s]",
      "application/vnd.jupyter.widget-view+json": {
       "version_major": 2,
       "version_minor": 0,
       "model_id": "86b42864e85547c9ab07e0709de5e37e"
      }
     },
     "metadata": {},
     "output_type": "display_data"
    }
   ],
   "source": [
    "if not os.path.exists(sts_dataset_path):\n",
    "    util.http_get(\"https://sbert.net/datasets/stsbenchmark.tsv.gz\", sts_dataset_path)\n",
    "else:\n",
    "    print(\"File stsbenchmark.tsv already exists\")"
   ],
   "metadata": {
    "collapsed": false,
    "ExecuteTime": {
     "end_time": "2024-04-12T19:01:20.260027Z",
     "start_time": "2024-04-12T19:01:19.178091Z"
    }
   },
   "id": "8a6cc132a164418b",
   "execution_count": 3
  },
  {
   "cell_type": "code",
   "source": [
    "model_name = \"sentence-transformers/paraphrase-multilingual-MiniLM-L12-v2\"\n",
    "model_name"
   ],
   "metadata": {
    "collapsed": false,
    "ExecuteTime": {
     "end_time": "2024-04-12T19:19:51.442136Z",
     "start_time": "2024-04-12T19:19:51.423611Z"
    }
   },
   "id": "4a8aba8feaf07256",
   "outputs": [
    {
     "data": {
      "text/plain": "'sentence-transformers/paraphrase-multilingual-MiniLM-L12-v2'"
     },
     "execution_count": 5,
     "metadata": {},
     "output_type": "execute_result"
    }
   ],
   "execution_count": 5
  },
  {
   "cell_type": "code",
   "source": [
    "# Read the dataset\n",
    "train_batch_size = 16\n",
    "num_epochs = 4\n",
    "model_save_path = (\n",
    "    \"../models/matryoshka_sts_\" + model_name.split('/')[-1]\n",
    ")\n",
    "\n",
    "model_save_path"
   ],
   "metadata": {
    "collapsed": false,
    "ExecuteTime": {
     "end_time": "2024-04-12T19:19:53.521543Z",
     "start_time": "2024-04-12T19:19:53.511445Z"
    }
   },
   "id": "91b903cd6fb74ef5",
   "outputs": [
    {
     "data": {
      "text/plain": "'../models/matryoshka_sts_paraphrase-multilingual-MiniLM-L12-v2'"
     },
     "execution_count": 6,
     "metadata": {},
     "output_type": "execute_result"
    }
   ],
   "execution_count": 6
  },
  {
   "cell_type": "markdown",
   "source": [
    "Load model"
   ],
   "metadata": {
    "collapsed": false
   },
   "id": "5997ce1ce7944b5b"
  },
  {
   "cell_type": "code",
   "source": [
    "# Use Huggingface/transformers model (like BERT, RoBERTa, XLNet, XLM-R) for mapping tokens to embeddings\n",
    "word_embedding_model = models.Transformer(model_name)"
   ],
   "metadata": {
    "collapsed": false,
    "ExecuteTime": {
     "end_time": "2024-04-12T19:19:58.997424Z",
     "start_time": "2024-04-12T19:19:56.894155Z"
    }
   },
   "id": "f6b668251945fe7a",
   "outputs": [],
   "execution_count": 7
  },
  {
   "cell_type": "code",
   "source": [
    "# Apply mean pooling to get one fixed sized sentence vector\n",
    "pooling_model = models.Pooling(\n",
    "    word_embedding_model.get_word_embedding_dimension(),\n",
    "    pooling_mode_mean_tokens=True,\n",
    "    pooling_mode_cls_token=False,\n",
    "    pooling_mode_max_tokens=False,\n",
    ")"
   ],
   "metadata": {
    "collapsed": false,
    "ExecuteTime": {
     "end_time": "2024-04-12T19:19:59.947170Z",
     "start_time": "2024-04-12T19:19:59.930395Z"
    }
   },
   "id": "38a90aab90344afd",
   "outputs": [],
   "execution_count": 8
  },
  {
   "cell_type": "code",
   "source": [
    "model = SentenceTransformer(modules=[word_embedding_model, pooling_model])"
   ],
   "metadata": {
    "collapsed": false,
    "ExecuteTime": {
     "end_time": "2024-04-12T19:20:06.869676Z",
     "start_time": "2024-04-12T19:20:06.590234Z"
    }
   },
   "id": "6bec078437696d71",
   "outputs": [
    {
     "name": "stdout",
     "output_type": "stream",
     "text": [
      "2024-04-12 21:20:06 - Use pytorch device_name: cuda\n"
     ]
    }
   ],
   "execution_count": 9
  },
  {
   "cell_type": "code",
   "source": [
    "# Convert the dataset to a DataLoader ready for training\n",
    "logging.info(\"Read STSbenchmark train dataset\")\n",
    "\n",
    "train_samples = []\n",
    "dev_samples = []\n",
    "test_samples = []\n",
    "with gzip.open(sts_dataset_path, \"rt\", encoding=\"utf8\") as fIn:\n",
    "    reader = csv.DictReader(fIn, delimiter=\"\\t\", quoting=csv.QUOTE_NONE)\n",
    "    for row in reader:\n",
    "        score = float(row[\"score\"]) / 5.0  # Normalize score to range 0 ... 1\n",
    "        inp_example = InputExample(texts=[row[\"sentence1\"], row[\"sentence2\"]], label=score)\n",
    "\n",
    "        if row[\"split\"] == \"dev\":\n",
    "            dev_samples.append(inp_example)\n",
    "        elif row[\"split\"] == \"test\":\n",
    "            test_samples.append(inp_example)\n",
    "        else:\n",
    "            train_samples.append(inp_example)"
   ],
   "metadata": {
    "collapsed": false,
    "ExecuteTime": {
     "end_time": "2024-04-12T19:20:12.119199Z",
     "start_time": "2024-04-12T19:20:12.039820Z"
    }
   },
   "id": "62fff2ffbf1814d7",
   "outputs": [
    {
     "name": "stdout",
     "output_type": "stream",
     "text": [
      "2024-04-12 21:20:12 - Read STSbenchmark train dataset\n"
     ]
    }
   ],
   "execution_count": 10
  },
  {
   "cell_type": "code",
   "source": [
    "print(test_samples[10])"
   ],
   "metadata": {
    "collapsed": false,
    "ExecuteTime": {
     "end_time": "2024-04-12T19:20:13.432856Z",
     "start_time": "2024-04-12T19:20:13.416742Z"
    }
   },
   "id": "7db81f78994c773",
   "outputs": [
    {
     "name": "stdout",
     "output_type": "stream",
     "text": [
      "<InputExample> label: 0.3428, texts: A man is playing a guitar.; A man is playing a trumpet.\n"
     ]
    }
   ],
   "execution_count": 11
  },
  {
   "cell_type": "code",
   "source": [
    "train_dataloader = DataLoader(train_samples, shuffle=True, batch_size=train_batch_size)\n",
    "train_loss = losses.CoSENTLoss(model=model)\n",
    "train_loss = losses.Matryoshka2dLoss(model, train_loss, [768, 512, 256, 128, 64])\n",
    "\n",
    "logging.info(\"Read STSbenchmark dev dataset\")\n",
    "evaluator = EmbeddingSimilarityEvaluator.from_input_examples(dev_samples, name=\"sts-dev\")"
   ],
   "metadata": {
    "collapsed": false,
    "ExecuteTime": {
     "end_time": "2024-04-12T19:20:14.484670Z",
     "start_time": "2024-04-12T19:20:14.473095Z"
    }
   },
   "id": "75b1c16e7120dee2",
   "outputs": [
    {
     "name": "stdout",
     "output_type": "stream",
     "text": [
      "2024-04-12 21:20:14 - Read STSbenchmark dev dataset\n"
     ]
    }
   ],
   "execution_count": 12
  },
  {
   "cell_type": "code",
   "source": [
    "# Configure the training. We skip evaluation in this example\n",
    "warmup_steps = math.ceil(len(train_dataloader) * num_epochs * 0.1)  # 10% of train data for warm-up\n",
    "logging.info(\"Warmup-steps: {}\".format(warmup_steps))"
   ],
   "metadata": {
    "collapsed": false,
    "ExecuteTime": {
     "end_time": "2024-04-12T19:20:15.128810Z",
     "start_time": "2024-04-12T19:20:15.124799Z"
    }
   },
   "id": "7d6f3d7ccf24348d",
   "outputs": [
    {
     "name": "stdout",
     "output_type": "stream",
     "text": [
      "2024-04-12 21:20:15 - Warmup-steps: 144\n"
     ]
    }
   ],
   "execution_count": 13
  },
  {
   "cell_type": "markdown",
   "source": [
    "## Training"
   ],
   "metadata": {
    "collapsed": false
   },
   "id": "a200becc8638f38d"
  },
  {
   "cell_type": "code",
   "source": [
    "# Train the model\n",
    "model.fit(\n",
    "    train_objectives=[(train_dataloader, train_loss)],\n",
    "    evaluator=evaluator,\n",
    "    epochs=num_epochs,\n",
    "    evaluation_steps=1000,\n",
    "    warmup_steps=warmup_steps,\n",
    "    output_path=model_save_path,\n",
    ")"
   ],
   "metadata": {
    "collapsed": false,
    "ExecuteTime": {
     "end_time": "2024-04-12T19:23:34.475548Z",
     "start_time": "2024-04-12T19:20:17.207669Z"
    }
   },
   "id": "21d132aa5cbf2311",
   "outputs": [
    {
     "data": {
      "text/plain": "Epoch:   0%|          | 0/4 [00:00<?, ?it/s]",
      "application/vnd.jupyter.widget-view+json": {
       "version_major": 2,
       "version_minor": 0,
       "model_id": "af2941edf5784a28ba677eeb39fc0166"
      }
     },
     "metadata": {},
     "output_type": "display_data"
    },
    {
     "data": {
      "text/plain": "Iteration:   0%|          | 0/360 [00:00<?, ?it/s]",
      "application/vnd.jupyter.widget-view+json": {
       "version_major": 2,
       "version_minor": 0,
       "model_id": "5da9e863f8224f24a9f55dfda48e0944"
      }
     },
     "metadata": {},
     "output_type": "display_data"
    },
    {
     "name": "stdout",
     "output_type": "stream",
     "text": [
      "2024-04-12 21:21:02 - EmbeddingSimilarityEvaluator: Evaluating the model on sts-dev dataset after epoch 0:\n",
      "2024-04-12 21:21:05 - Cosine-Similarity :\tPearson: 0.8352\tSpearman: 0.8666\n",
      "2024-04-12 21:21:05 - Manhattan-Distance:\tPearson: 0.8633\tSpearman: 0.8657\n",
      "2024-04-12 21:21:05 - Euclidean-Distance:\tPearson: 0.8633\tSpearman: 0.8655\n",
      "2024-04-12 21:21:05 - Dot-Product-Similarity:\tPearson: 0.6230\tSpearman: 0.6182\n",
      "2024-04-12 21:21:05 - Save model to ../models/matryoshka_sts_paraphrase-multilingual-MiniLM-L12-v2\n"
     ]
    },
    {
     "data": {
      "text/plain": "Iteration:   0%|          | 0/360 [00:00<?, ?it/s]",
      "application/vnd.jupyter.widget-view+json": {
       "version_major": 2,
       "version_minor": 0,
       "model_id": "574b25a77c814b0a8ee7cc1a8d0a2422"
      }
     },
     "metadata": {},
     "output_type": "display_data"
    },
    {
     "name": "stdout",
     "output_type": "stream",
     "text": [
      "2024-04-12 21:21:51 - EmbeddingSimilarityEvaluator: Evaluating the model on sts-dev dataset after epoch 1:\n",
      "2024-04-12 21:21:54 - Cosine-Similarity :\tPearson: 0.8586\tSpearman: 0.8802\n",
      "2024-04-12 21:21:54 - Manhattan-Distance:\tPearson: 0.8708\tSpearman: 0.8737\n",
      "2024-04-12 21:21:54 - Euclidean-Distance:\tPearson: 0.8710\tSpearman: 0.8739\n",
      "2024-04-12 21:21:54 - Dot-Product-Similarity:\tPearson: 0.6623\tSpearman: 0.6645\n",
      "2024-04-12 21:21:54 - Save model to ../models/matryoshka_sts_paraphrase-multilingual-MiniLM-L12-v2\n"
     ]
    },
    {
     "data": {
      "text/plain": "Iteration:   0%|          | 0/360 [00:00<?, ?it/s]",
      "application/vnd.jupyter.widget-view+json": {
       "version_major": 2,
       "version_minor": 0,
       "model_id": "1d55629b4ef54211afd45ab2a5e2f9e0"
      }
     },
     "metadata": {},
     "output_type": "display_data"
    },
    {
     "name": "stdout",
     "output_type": "stream",
     "text": [
      "2024-04-12 21:22:40 - EmbeddingSimilarityEvaluator: Evaluating the model on sts-dev dataset after epoch 2:\n",
      "2024-04-12 21:22:43 - Cosine-Similarity :\tPearson: 0.8630\tSpearman: 0.8796\n",
      "2024-04-12 21:22:43 - Manhattan-Distance:\tPearson: 0.8737\tSpearman: 0.8756\n",
      "2024-04-12 21:22:43 - Euclidean-Distance:\tPearson: 0.8738\tSpearman: 0.8756\n",
      "2024-04-12 21:22:43 - Dot-Product-Similarity:\tPearson: 0.6693\tSpearman: 0.6681\n"
     ]
    },
    {
     "data": {
      "text/plain": "Iteration:   0%|          | 0/360 [00:00<?, ?it/s]",
      "application/vnd.jupyter.widget-view+json": {
       "version_major": 2,
       "version_minor": 0,
       "model_id": "6cfaff1aba694bf1a4c5a264f0de8497"
      }
     },
     "metadata": {},
     "output_type": "display_data"
    },
    {
     "name": "stdout",
     "output_type": "stream",
     "text": [
      "2024-04-12 21:23:29 - EmbeddingSimilarityEvaluator: Evaluating the model on sts-dev dataset after epoch 3:\n",
      "2024-04-12 21:23:32 - Cosine-Similarity :\tPearson: 0.8688\tSpearman: 0.8841\n",
      "2024-04-12 21:23:32 - Manhattan-Distance:\tPearson: 0.8752\tSpearman: 0.8775\n",
      "2024-04-12 21:23:32 - Euclidean-Distance:\tPearson: 0.8755\tSpearman: 0.8775\n",
      "2024-04-12 21:23:32 - Dot-Product-Similarity:\tPearson: 0.6915\tSpearman: 0.6921\n",
      "2024-04-12 21:23:32 - Save model to ../models/matryoshka_sts_paraphrase-multilingual-MiniLM-L12-v2\n"
     ]
    }
   ],
   "execution_count": 14
  },
  {
   "cell_type": "markdown",
   "source": [
    "## Load the stored model and evaluate its performance on STS benchmark dataset"
   ],
   "metadata": {
    "collapsed": false
   },
   "id": "b72c372362fd148"
  },
  {
   "cell_type": "code",
   "outputs": [
    {
     "name": "stdout",
     "output_type": "stream",
     "text": [
      "2024-04-12 21:23:42 - Load pretrained SentenceTransformer: ../models/matryoshka_sts_paraphrase-multilingual-MiniLM-L12-v2\n",
      "2024-04-12 21:23:42 - Use pytorch device_name: cuda\n",
      "2024-04-12 21:23:43 - EmbeddingSimilarityEvaluator: Evaluating the model on sts-test dataset:\n",
      "2024-04-12 21:23:46 - Cosine-Similarity :\tPearson: 0.8596\tSpearman: 0.8688\n",
      "2024-04-12 21:23:46 - Manhattan-Distance:\tPearson: 0.8626\tSpearman: 0.8605\n",
      "2024-04-12 21:23:46 - Euclidean-Distance:\tPearson: 0.8627\tSpearman: 0.8606\n",
      "2024-04-12 21:23:46 - Dot-Product-Similarity:\tPearson: 0.6614\tSpearman: 0.6514\n"
     ]
    },
    {
     "data": {
      "text/plain": "0.8688129301412233"
     },
     "execution_count": 15,
     "metadata": {},
     "output_type": "execute_result"
    }
   ],
   "source": [
    "model = SentenceTransformer(model_save_path)\n",
    "test_evaluator = EmbeddingSimilarityEvaluator.from_input_examples(test_samples, name=\"sts-test\")\n",
    "test_evaluator(model, output_path=model_save_path)"
   ],
   "metadata": {
    "collapsed": false,
    "ExecuteTime": {
     "end_time": "2024-04-12T19:23:46.138055Z",
     "start_time": "2024-04-12T19:23:42.022250Z"
    }
   },
   "id": "b440e0a62ff03692",
   "execution_count": 15
  },
  {
   "cell_type": "markdown",
   "source": [
    "## Push model to huggingface"
   ],
   "metadata": {
    "collapsed": false
   },
   "id": "3145949dceaa50c2"
  },
  {
   "cell_type": "code",
   "outputs": [
    {
     "data": {
      "text/plain": "'paraphrase-multilingual-MiniLM-L12-v2'"
     },
     "execution_count": 17,
     "metadata": {},
     "output_type": "execute_result"
    }
   ],
   "source": [
    "model_name = model_name if \"/\" not in model_name else model_name.split(\"/\")[-1]\n",
    "model_name"
   ],
   "metadata": {
    "collapsed": false,
    "ExecuteTime": {
     "end_time": "2024-04-12T19:25:06.493727Z",
     "start_time": "2024-04-12T19:25:06.474645Z"
    }
   },
   "id": "ca96d91942a1eda5",
   "execution_count": 17
  },
  {
   "cell_type": "code",
   "outputs": [
    {
     "name": "stdout",
     "output_type": "stream",
     "text": [
      "2024-04-12 21:26:38 - Save model to C:\\Users\\koray\\AppData\\Local\\Temp\\tmp9rfcnphd\n"
     ]
    },
    {
     "data": {
      "text/plain": "Upload 3 LFS files:   0%|          | 0/3 [00:00<?, ?it/s]",
      "application/vnd.jupyter.widget-view+json": {
       "version_major": 2,
       "version_minor": 0,
       "model_id": "33e869ae8bc148e1a962a11b6a76c7f7"
      }
     },
     "metadata": {},
     "output_type": "display_data"
    },
    {
     "data": {
      "text/plain": "model.safetensors:   0%|          | 0.00/471M [00:00<?, ?B/s]",
      "application/vnd.jupyter.widget-view+json": {
       "version_major": 2,
       "version_minor": 0,
       "model_id": "534f498e6cab48ceab7896ab9db79825"
      }
     },
     "metadata": {},
     "output_type": "display_data"
    },
    {
     "data": {
      "text/plain": "unigram.json:   0%|          | 0.00/14.8M [00:00<?, ?B/s]",
      "application/vnd.jupyter.widget-view+json": {
       "version_major": 2,
       "version_minor": 0,
       "model_id": "54a4d05e32cc43caa10fe0bea5d01810"
      }
     },
     "metadata": {},
     "output_type": "display_data"
    },
    {
     "data": {
      "text/plain": "tokenizer.json:   0%|          | 0.00/17.1M [00:00<?, ?B/s]",
      "application/vnd.jupyter.widget-view+json": {
       "version_major": 2,
       "version_minor": 0,
       "model_id": "737b1cbae6114a4dbf4e01591e1f708e"
      }
     },
     "metadata": {},
     "output_type": "display_data"
    }
   ],
   "source": [
    "try:\n",
    "    model.push_to_hub(f\"{model_name}-sts-2d-matryoshka\")\n",
    "except Exception:\n",
    "    logging.error(\n",
    "        \"Error uploading model to the Hugging Face Hub. To upload it manually, you can run \"\n",
    "        f\"`huggingface-cli login`, followed by loading the model using `model = SentenceTransformer({model_save_path!r})` \"\n",
    "        f\"and saving it using `model.push_to_hub('{model_name}-sts-matryoshka')`.\"\n",
    "    )"
   ],
   "metadata": {
    "collapsed": false,
    "ExecuteTime": {
     "end_time": "2024-04-12T19:28:11.400421Z",
     "start_time": "2024-04-12T19:26:37.533476Z"
    }
   },
   "id": "ef7169218b61128c",
   "execution_count": 19
  },
  {
   "cell_type": "markdown",
   "source": [
    "## Load model and test matryoshka dims"
   ],
   "metadata": {
    "collapsed": false
   },
   "id": "f50005e8d7c3951e"
  },
  {
   "cell_type": "code",
   "outputs": [
    {
     "name": "stdout",
     "output_type": "stream",
     "text": [
      "2024-03-30 15:59:38 - Load pretrained SentenceTransformer: output/2d_matryoshka_sts_distilbert-base-uncased\n",
      "2024-03-30 15:59:38 - Use pytorch device_name: mps\n"
     ]
    }
   ],
   "source": [
    "m1 = SentenceTransformer(model_save_path)"
   ],
   "metadata": {
    "collapsed": false,
    "ExecuteTime": {
     "end_time": "2024-03-30T14:59:39.234547Z",
     "start_time": "2024-03-30T14:59:38.389912Z"
    }
   },
   "id": "465e3d3a7c1ae66",
   "execution_count": 12
  },
  {
   "cell_type": "code",
   "outputs": [
    {
     "data": {
      "text/plain": "Batches:   0%|          | 0/1 [00:00<?, ?it/s]",
      "application/vnd.jupyter.widget-view+json": {
       "version_major": 2,
       "version_minor": 0,
       "model_id": "5d83421ba6ae41218d659abe19aea82a"
      }
     },
     "metadata": {},
     "output_type": "display_data"
    }
   ],
   "source": [
    "sentences = [\n",
    "    \"The cat is watching out of the window\",\n",
    "    \"They are playing a computer game\",\n",
    "    \"Men are playing cricket\",\n",
    "    \"A cat is standing at the window watching outside\"\n",
    "]\n",
    "\n",
    "embeddings = m1.encode(sentences)"
   ],
   "metadata": {
    "collapsed": false,
    "ExecuteTime": {
     "end_time": "2024-03-30T13:36:02.996085Z",
     "start_time": "2024-03-30T13:36:02.636571Z"
    }
   },
   "id": "89fc9fde72bf4f2",
   "execution_count": 20
  },
  {
   "cell_type": "code",
   "outputs": [],
   "source": [
    "from sentence_transformers import util\n",
    "\n",
    "result = {}\n",
    "for matryoshka_dim in [768, 512, 256, 128, 64]:\n",
    "    embeddings_shrink = embeddings[..., :matryoshka_dim]  # Shrink the embedding dimensions\n",
    "    similarities = util.cos_sim(embeddings_shrink[0], embeddings_shrink[1:])\n",
    "    result[matryoshka_dim] = similarities.cpu().detach().numpy()[0]"
   ],
   "metadata": {
    "collapsed": false,
    "ExecuteTime": {
     "end_time": "2024-03-30T13:36:05.678829Z",
     "start_time": "2024-03-30T13:36:05.663243Z"
    }
   },
   "id": "be533509af781095",
   "execution_count": 21
  },
  {
   "cell_type": "code",
   "outputs": [],
   "source": [
    "import pandas as pd\n",
    "\n",
    "df = pd.DataFrame(result)"
   ],
   "metadata": {
    "collapsed": false
   },
   "id": "58911d23a57a9730",
   "execution_count": null
  },
  {
   "cell_type": "code",
   "outputs": [
    {
     "data": {
      "text/plain": "<Figure size 640x480 with 1 Axes>",
      "image/png": "[encoded data removed]"
     },
     "metadata": {},
     "output_type": "display_data"
    }
   ],
   "source": [
    "df.plot.bar(ylabel=\"Cosine Similarity\", xlabel=\"Sentences\", title=f\"Similarity: {sentences[0]}\");"
   ],
   "metadata": {
    "collapsed": false,
    "ExecuteTime": {
     "end_time": "2024-03-30T13:36:17.887206Z",
     "start_time": "2024-03-30T13:36:17.382500Z"
    }
   },
   "id": "63e8571b1a4f5d67",
   "execution_count": 23
  },
  {
   "cell_type": "markdown",
   "source": [
    "## TODO: Apply Binary Quantization"
   ],
   "metadata": {
    "collapsed": false
   },
   "id": "a2c6c01e1c8cf0c4"
  },
  {
   "cell_type": "code",
   "outputs": [],
   "source": [
    "m1 = SentenceTransformer(model_save_path)"
   ],
   "metadata": {
    "collapsed": false
   },
   "id": "a19ef871b316fa66",
   "execution_count": null
  },
  {
   "cell_type": "code",
   "outputs": [
    {
     "data": {
      "text/plain": "Batches:   0%|          | 0/1 [00:00<?, ?it/s]",
      "application/vnd.jupyter.widget-view+json": {
       "version_major": 2,
       "version_minor": 0,
       "model_id": "b75ad7cb72eb437e85c2881f29fa0652"
      }
     },
     "metadata": {},
     "output_type": "display_data"
    }
   ],
   "source": [
    "from sentence_transformers.quantization import quantize_embeddings\n",
    "\n",
    "sentences = [\n",
    "    \"The cat is watching out of the window\",\n",
    "    \"They are playing a computer game\",\n",
    "    \"Men are playing cricket\",\n",
    "    \"A cat is standing at the window watching outside\"\n",
    "]\n",
    "binary_embeddings = m1.encode(sentences, precision='binary', convert_to_numpy=False, convert_to_tensor=True, normalize_embeddings=True)"
   ],
   "metadata": {
    "collapsed": false,
    "ExecuteTime": {
     "end_time": "2024-03-30T15:45:58.291341Z",
     "start_time": "2024-03-30T15:45:57.926427Z"
    }
   },
   "id": "b4f1101e30b874ba",
   "execution_count": 70
  },
  {
   "cell_type": "code",
   "outputs": [],
   "source": [
    "from sentence_transformers import util\n",
    "from torchmetrics.classification import BinaryHammingDistance, HammingDistance\n",
    "import torch\n",
    "\n",
    "result = {}\n",
    "for matryoshka_dim in [768, 512, 256, 128, 64]:\n",
    "    embeddings_shrink = binary_embeddings[..., :matryoshka_dim]  # Shrink the embedding dimensions\n",
    "    metric = HammingDistance(task=\"multiclass\", num_classes=matryoshka_dim)\n",
    "    \n",
    "    mess = []\n",
    "    for m in embeddings_shrink[1:]:\n",
    "        similarities = metric(embeddings_shrink[0], m)\n",
    "        mess.append(similarities.item())\n",
    "    # result[matryoshka_dim] = similarities.cpu().detach().numpy()[0]\n",
    "    result[matryoshka_dim] = mess"
   ],
   "metadata": {
    "collapsed": false,
    "ExecuteTime": {
     "end_time": "2024-03-30T15:50:03.120061Z",
     "start_time": "2024-03-30T15:50:03.113830Z"
    }
   },
   "id": "dfcc976ef72f4510",
   "execution_count": 89
  },
  {
   "metadata": {},
   "cell_type": "markdown",
   "source": [
    "## Calinski Harabasz Score\n",
    "$CHS(X, L) = \\frac{B(X, L) \\cdot (n_\\text{samples} - n_\\text{labels})}{W(X, L) \\cdot (n_\\text{labels} - 1)}$\n",
    "\n",
    "where :math: $B(X, L)$ is the between-cluster dispersion, which is the squared distance between the cluster centers\n",
    "    and the dataset mean, weighted by the size of the clusters, :math: $n_\\text{samples}$ is the number of samples,\n",
    "    :math: $n_\\text{labels}$ is the number of labels, and :math: $W(X, L)$ is the within-cluster dispersion e.g. the\n",
    "    sum of squared distances between each samples and its closest cluster center.\n",
    "    \n",
    "PyTorch\n",
    "```\n",
    "from torchmetrics.clustering import calinski_harabasz_score\n",
    "calinski_harabasz_score\n",
    "```"
   ],
   "id": "fb634227425ff371"
  },
  {
   "cell_type": "code",
   "outputs": [
    {
     "data": {
      "text/plain": "{768: [0.9583333134651184, 0.9791666865348816, 0.6770833730697632],\n 512: [0.9583333134651184, 0.9791666865348816, 0.6770833730697632],\n 256: [0.9583333134651184, 0.9791666865348816, 0.6770833730697632],\n 128: [0.9583333134651184, 0.9791666865348816, 0.6770833730697632],\n 64: [0.953125, 0.96875, 0.671875]}"
     },
     "execution_count": 90,
     "metadata": {},
     "output_type": "execute_result"
    }
   ],
   "source": [
    "result"
   ],
   "metadata": {
    "collapsed": false,
    "ExecuteTime": {
     "end_time": "2024-03-30T15:50:04.207381Z",
     "start_time": "2024-03-30T15:50:04.204342Z"
    }
   },
   "id": "1896f3af4b87435f",
   "execution_count": 90
  },
  {
   "cell_type": "code",
   "outputs": [
    {
     "data": {
      "text/plain": "Batches:   0%|          | 0/1 [00:00<?, ?it/s]",
      "application/vnd.jupyter.widget-view+json": {
       "version_major": 2,
       "version_minor": 0,
       "model_id": "90be10c8547f4ecda00cf4c7aa698808"
      }
     },
     "metadata": {},
     "output_type": "display_data"
    },
    {
     "data": {
      "text/plain": "array([[  59,  -83,   49,   19,  -63,  -67,   23,  -86,  116,   14,  -40,\n          70,  -23, -114,   74,   20,  -85,   13,   69,  -74,  126,   10,\n         -95,  -90,  -87,   38,  -55,  -11,  -78, -114,  -78,  106,   -9,\n         -92,   76,    9,   -2,  123,   17,  -97,  -23,   79,  -21,   83,\n          58,   47,   10,  -15,   -9,   31,   82,  120,   93,  -76,  115,\n           1,  100,  -14,  127,  -22,  -80,  -95,   80,   25, -108,   25,\n         -61,    2,   17, -105,    6,  -92,   96,  -92,  -39,  -40,  -62,\n         117, -106,  -52,   -8,  -86,   41, -120,  -88,  100,  -62,   32,\n          -5,   -5,   -2,  -48,  -48,   46,  -29,  -87],\n       [  43, -115,   49,   26,  -59,  -91,   19, -112,   96,   64,   -8,\n         -58,  -53,   46,   90,   53,   59,   23,   38,  -91,  119,  -39,\n          83,   41, -119,   71,  -51,    5,   32,  116,  -78,   12,  -13,\n          -3,   67,   75, -102,   10,  -26,  -70,   99,   58,  -17,   47,\n          63, -116,  108,  -32,  -93,   51,   90,  -12,  106,  125,  -78,\n          17,  124,  -16,   73,   -9,   16, -105,  -16,   33,  -76,   19,\n         -61,  -79, -112,  -75,   12,  -17,  106,   38, -101, -104,  102,\n         -35,  127,  -51,  -16,   57,  -86,  -68,  -46,   98,  -64,   97,\n         -23,  -77,  -46,  -39,   61, -122, -106,   26]], dtype=int8)"
     },
     "execution_count": 57,
     "metadata": {},
     "output_type": "execute_result"
    }
   ],
   "source": [
    "embeddings = m1.encode([\"I am driving to the lake.\", \"It is a beautiful day.\"])\n",
    "binary_embeddings = quantize_embeddings(embeddings, precision=\"binary\")\n",
    "binary_embeddings"
   ],
   "metadata": {
    "collapsed": false,
    "ExecuteTime": {
     "end_time": "2024-03-30T15:40:42.383504Z",
     "start_time": "2024-03-30T15:40:42.311904Z"
    }
   },
   "id": "b416fe74f11b845c",
   "execution_count": 57
  },
  {
   "cell_type": "code",
   "outputs": [
    {
     "data": {
      "text/plain": "tensor([  11, -123,   16, -101, -123,  -80,   17,  -77,  -28,  -98,   72,  -58,\n        -101,    4,   26,   56,   59,   29,   22, -124,   49,   -8,   33,   96,\n         -63,   53,  -57, -111,  -82,    6,  -77,   40,   -2,  -92,  102,   26,\n         -71,  -18,  -58,  -78,   97, -100,  -57,  127,  -83,  -19,  -40,  105,\n         -89, -110,  123,   60,   75,   85, -104,   43,  -14,   78,   93,  121,\n          85,   70,   17,  -28,   -4,  -69,  -61,   60, -112,  -25,   94, -111,\n         -21, -106,   90,   30,  -16,  -59, -100,  -97,   70,   78,   -5,   20,\n         -22,  123,   68,  -77,  105,   21,  -71,    3,   72,  111,    8,  -69],\n       dtype=torch.int8)"
     },
     "execution_count": 93,
     "metadata": {},
     "output_type": "execute_result"
    }
   ],
   "source": [
    "binary_embeddings[0]"
   ],
   "metadata": {
    "collapsed": false,
    "ExecuteTime": {
     "end_time": "2024-03-30T16:57:06.355511Z",
     "start_time": "2024-03-30T16:57:06.350697Z"
    }
   },
   "id": "9b814fe343f1654",
   "execution_count": 93
  },
  {
   "cell_type": "code",
   "outputs": [
    {
     "data": {
      "text/plain": "array([[ 0.5170344 , -0.11213418,  0.4357653 , ..., -0.37049708,\n        -0.02676672,  0.10248528],\n       [ 0.5183879 , -0.25044525,  0.06931788, ..., -0.0939942 ,\n         0.30613455, -0.17210767]], dtype=float32)"
     },
     "execution_count": 95,
     "metadata": {},
     "output_type": "execute_result"
    }
   ],
   "source": [
    "embeddings"
   ],
   "metadata": {
    "collapsed": false,
    "ExecuteTime": {
     "end_time": "2024-03-30T17:08:14.644879Z",
     "start_time": "2024-03-30T17:08:14.641551Z"
    }
   },
   "id": "5b2937be5a1117a5",
   "execution_count": 95
  },
  {
   "cell_type": "code",
   "outputs": [
    {
     "data": {
      "text/plain": "array([[  59,  -83,   49,   19,  -63,  -67,   23,  -86,  116,   14,  -40,\n          70,  -23, -114,   74,   20,  -85,   13,   69,  -74,  126,   10,\n         -95,  -90,  -87,   38,  -55,  -11,  -78, -114,  -78,  106,   -9,\n         -92,   76,    9,   -2,  123,   17,  -97,  -23,   79,  -21,   83,\n          58,   47,   10,  -15,   -9,   31,   82,  120,   93,  -76,  115,\n           1,  100,  -14,  127,  -22,  -80,  -95,   80,   25, -108,   25,\n         -61,    2,   17, -105,    6,  -92,   96,  -92,  -39,  -40,  -62,\n         117, -106,  -52,   -8,  -86,   41, -120,  -88,  100,  -62,   32,\n          -5,   -5,   -2,  -48,  -48,   46,  -29,  -87],\n       [  43, -115,   49,   26,  -59,  -91,   19, -112,   96,   64,   -8,\n         -58,  -53,   46,   90,   53,   59,   23,   38,  -91,  119,  -39,\n          83,   41, -119,   71,  -51,    5,   32,  116,  -78,   12,  -13,\n          -3,   67,   75, -102,   10,  -26,  -70,   99,   58,  -17,   47,\n          63, -116,  108,  -32,  -93,   51,   90,  -12,  106,  125,  -78,\n          17,  124,  -16,   73,   -9,   16, -105,  -16,   33,  -76,   19,\n         -61,  -79, -112,  -75,   12,  -17,  106,   38, -101, -104,  102,\n         -35,  127,  -51,  -16,   57,  -86,  -68,  -46,   98,  -64,   97,\n         -23,  -77,  -46,  -39,   61, -122, -106,   26]], dtype=int8)"
     },
     "execution_count": 110,
     "metadata": {},
     "output_type": "execute_result"
    }
   ],
   "source": [
    "import numpy as np\n",
    "\n",
    "# np.packbits(embeddings > 0).reshape(embeddings.shape[0], -1)\n",
    "(np.packbits(embeddings > 0, axis=-1).reshape(embeddings.shape[0], -1) - 128).astype(np.int8)"
   ],
   "metadata": {
    "collapsed": false,
    "ExecuteTime": {
     "end_time": "2024-03-30T17:16:55.096425Z",
     "start_time": "2024-03-30T17:16:55.093100Z"
    }
   },
   "id": "e839094d35e2dc36",
   "execution_count": 110
  },
  {
   "cell_type": "code",
   "outputs": [
    {
     "data": {
      "text/plain": "array([[1, 0, 1, ..., 0, 0, 1],\n       [1, 0, 1, ..., 0, 1, 0]])"
     },
     "execution_count": 109,
     "metadata": {},
     "output_type": "execute_result"
    }
   ],
   "source": [
    "(embeddings > 0).astype(int)"
   ],
   "metadata": {
    "collapsed": false,
    "ExecuteTime": {
     "end_time": "2024-03-30T17:16:37.457300Z",
     "start_time": "2024-03-30T17:16:37.453523Z"
    }
   },
   "id": "35e1c2e68743e495",
   "execution_count": 109
  }
 ],
 "metadata": {
  "kernelspec": {
   "display_name": "Python 3",
   "language": "python",
   "name": "python3"
  },
  "language_info": {
   "codemirror_mode": {
    "name": "ipython",
    "version": 2
   },
   "file_extension": ".py",
   "mimetype": "text/x-python",
   "name": "python",
   "nbconvert_exporter": "python",
   "pygments_lexer": "ipython2",
   "version": "2.7.6"
  }
 },
 "nbformat": 4,
 "nbformat_minor": 5
}
